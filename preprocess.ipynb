{
 "cells": [
  {
   "cell_type": "code",
   "execution_count": null,
   "id": "f0c2b004",
   "metadata": {},
   "outputs": [
    {
     "name": "stdout",
     "output_type": "stream",
     "text": [
      "Current working directory: /Users/jungwoopark/Summer_Project/dataset\n"
     ]
    }
   ],
   "source": [
    "import pandas as pd\n",
    "import os\n",
    "\n",
    "# print(\"Current working directory:\", os.getcwd())\n",
    "# df1 = pd.read_excel(\"gm1.xlsx\")\n",
    "# df2 = pd.read_excel(\"gm2.xlsx\")\n",
    "# df3 = pd.read_excel(\"gm3.xlsx\")\n",
    "# df4 = pd.read_excel(\"gm4.xlsx\")\n",
    "# df5 = pd.read_excel(\"gm5.xlsx\")\n"
   ]
  },
  {
   "cell_type": "code",
   "execution_count": 12,
   "id": "d8079dc8",
   "metadata": {},
   "outputs": [
    {
     "data": {
      "text/html": [
       "<div>\n",
       "<style scoped>\n",
       "    .dataframe tbody tr th:only-of-type {\n",
       "        vertical-align: middle;\n",
       "    }\n",
       "\n",
       "    .dataframe tbody tr th {\n",
       "        vertical-align: top;\n",
       "    }\n",
       "\n",
       "    .dataframe thead th {\n",
       "        text-align: right;\n",
       "    }\n",
       "</style>\n",
       "<table border=\"1\" class=\"dataframe\">\n",
       "  <thead>\n",
       "    <tr style=\"text-align: right;\">\n",
       "      <th></th>\n",
       "      <th>title</th>\n",
       "      <th>categoryName</th>\n",
       "      <th>website</th>\n",
       "      <th>url</th>\n",
       "      <th>reviewsCount</th>\n",
       "      <th>stars</th>\n",
       "      <th>text</th>\n",
       "    </tr>\n",
       "  </thead>\n",
       "  <tbody>\n",
       "    <tr>\n",
       "      <th>0</th>\n",
       "      <td>The Table on Delk</td>\n",
       "      <td>Family restaurant</td>\n",
       "      <td>http://thetableondelk.org/</td>\n",
       "      <td>https://www.google.com/maps/place/The+Table+on...</td>\n",
       "      <td>7</td>\n",
       "      <td>5</td>\n",
       "      <td>NaN</td>\n",
       "    </tr>\n",
       "    <tr>\n",
       "      <th>1</th>\n",
       "      <td>The Table on Delk</td>\n",
       "      <td>Family restaurant</td>\n",
       "      <td>http://thetableondelk.org/</td>\n",
       "      <td>https://www.google.com/maps/place/The+Table+on...</td>\n",
       "      <td>7</td>\n",
       "      <td>4</td>\n",
       "      <td>The Table is a faith based women’s out reach p...</td>\n",
       "    </tr>\n",
       "  </tbody>\n",
       "</table>\n",
       "</div>"
      ],
      "text/plain": [
       "               title       categoryName                     website  \\\n",
       "0  The Table on Delk  Family restaurant  http://thetableondelk.org/   \n",
       "1  The Table on Delk  Family restaurant  http://thetableondelk.org/   \n",
       "\n",
       "                                                 url  reviewsCount  stars  \\\n",
       "0  https://www.google.com/maps/place/The+Table+on...             7      5   \n",
       "1  https://www.google.com/maps/place/The+Table+on...             7      4   \n",
       "\n",
       "                                                text  \n",
       "0                                                NaN  \n",
       "1  The Table is a faith based women’s out reach p...  "
      ]
     },
     "execution_count": 12,
     "metadata": {},
     "output_type": "execute_result"
    }
   ],
   "source": [
    "df1.head(2)"
   ]
  },
  {
   "cell_type": "code",
   "execution_count": null,
   "id": "50d1ba5d",
   "metadata": {
    "vscode": {
     "languageId": "ruby"
    }
   },
   "outputs": [
    {
     "name": "stdout",
     "output_type": "stream",
     "text": [
      "✅ Saved to 'cleaned_restaurants.csv'\n"
     ]
    }
   ],
   "source": [
    "# df_all = pd.concat([df1, df2, df3, df4, df5], ignore_index=True)\n",
    "# df_all[\"text\"] = df_all[\"text\"].fillna(\"\").str.lower()\n",
    "# df_all = df_all.drop_duplicates()\n",
    "# df_all[\"text\"] = df_all[\"text\"].str.lower()\n",
    "# df_all[\"title\"] = df_all[\"title\"].str.lower()\n",
    "# df_all[\"categoryName\"] = df_all[\"categoryName\"].str.lower()\n",
    "\n",
    "# # Save\n",
    "# df_all.to_csv(\"cleaned_restaurants.csv\", index=False)\n",
    "# print(\"✅ Saved to 'cleaned_restaurants.csv'\")"
   ]
  },
  {
   "cell_type": "code",
   "execution_count": 23,
   "id": "3120bcb5",
   "metadata": {
    "vscode": {
     "languageId": "ruby"
    }
   },
   "outputs": [
    {
     "name": "stdout",
     "output_type": "stream",
     "text": [
      "🔢 Rows: 86374  |  Columns: 7\n",
      "📝 Titles: 516\n",
      "🗂️ Categories: 81\n"
     ]
    }
   ],
   "source": [
    "data = pd.read_csv(\"cleaned_restaurants.csv\")\n",
    "\n",
    "print(f\"🔢 Rows: {data.shape[0]}  |  Columns: {data.shape[1]}\")\n",
    "print(f\"📝 Titles: {data['title'].nunique()}\")\n",
    "print(f\"🗂️ Categories: {data['categoryName'].nunique()}\")\n",
    "\n"
   ]
  }
 ],
 "metadata": {
  "kernelspec": {
   "display_name": "restaurant_env",
   "language": "python",
   "name": "python3"
  },
  "language_info": {
   "codemirror_mode": {
    "name": "ipython",
    "version": 3
   },
   "file_extension": ".py",
   "mimetype": "text/x-python",
   "name": "python",
   "nbconvert_exporter": "python",
   "pygments_lexer": "ipython3",
   "version": "3.9.6"
  }
 },
 "nbformat": 4,
 "nbformat_minor": 5
}
